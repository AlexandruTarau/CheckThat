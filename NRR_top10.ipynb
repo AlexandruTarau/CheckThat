{
 "cells": [
  {
   "cell_type": "code",
   "execution_count": 12,
   "metadata": {},
   "outputs": [
    {
     "name": "stderr",
     "output_type": "stream",
     "text": [
      "/var/folders/wl/s2d0f7l51w3gpcrn7gtnv0tc0000gn/T/ipykernel_46036/4286443179.py:9: DeprecationWarning: numpy.core.numeric is deprecated and has been renamed to numpy._core.numeric. The numpy._core namespace contains private NumPy internals and its use is discouraged, as NumPy internals can change without warning in any release. In practice, most real-world usage of numpy.core is to access functionality in the public NumPy API. If that is the case, use the public NumPy API. If not, you are using NumPy internals. If you would still like to access an internal attribute, use numpy._core.numeric._frombuffer.\n",
      "  df_collection = pickle.load(f)\n"
     ]
    }
   ],
   "source": [
    "import pandas as pd\n",
    "\n",
    "df_query_dev = pd.read_pickle('bm25_results_dev.pkl')\n",
    "\n",
    "# Uploading the collection (corpus of articles)\n",
    "import pickle\n",
    "\n",
    "with open('subtask4b_collection_data.pkl', 'rb') as f:\n",
    "    df_collection = pickle.load(f)\n"
   ]
  },
  {
   "cell_type": "code",
   "execution_count": 14,
   "metadata": {},
   "outputs": [
    {
     "data": {
      "text/plain": [
       "Index(['post_id', 'tweet_text', 'cord_uid', 'bm25_topk'], dtype='object')"
      ]
     },
     "execution_count": 14,
     "metadata": {},
     "output_type": "execute_result"
    }
   ],
   "source": [
    "df_query_dev.columns"
   ]
  },
  {
   "cell_type": "code",
   "execution_count": 13,
   "metadata": {},
   "outputs": [
    {
     "name": "stderr",
     "output_type": "stream",
     "text": [
      "huggingface/tokenizers: The current process just got forked, after parallelism has already been used. Disabling parallelism to avoid deadlocks...\n",
      "To disable this warning, you can either:\n",
      "\t- Avoid using `tokenizers` before the fork if possible\n",
      "\t- Explicitly set the environment variable TOKENIZERS_PARALLELISM=(true | false)\n"
     ]
    },
    {
     "name": "stdout",
     "output_type": "stream",
     "text": [
      "Requirement already satisfied: sentence-transformers in /Library/Frameworks/Python.framework/Versions/3.13/lib/python3.13/site-packages (4.1.0)\n",
      "Requirement already satisfied: transformers<5.0.0,>=4.41.0 in /Library/Frameworks/Python.framework/Versions/3.13/lib/python3.13/site-packages (from sentence-transformers) (4.51.3)\n",
      "Requirement already satisfied: tqdm in /Library/Frameworks/Python.framework/Versions/3.13/lib/python3.13/site-packages (from sentence-transformers) (4.67.1)\n",
      "Requirement already satisfied: torch>=1.11.0 in /Library/Frameworks/Python.framework/Versions/3.13/lib/python3.13/site-packages (from sentence-transformers) (2.6.0)\n",
      "Requirement already satisfied: scikit-learn in /Library/Frameworks/Python.framework/Versions/3.13/lib/python3.13/site-packages (from sentence-transformers) (1.6.1)\n",
      "Requirement already satisfied: scipy in /Library/Frameworks/Python.framework/Versions/3.13/lib/python3.13/site-packages (from sentence-transformers) (1.15.2)\n",
      "Requirement already satisfied: huggingface-hub>=0.20.0 in /Library/Frameworks/Python.framework/Versions/3.13/lib/python3.13/site-packages (from sentence-transformers) (0.30.2)\n",
      "Requirement already satisfied: Pillow in /Library/Frameworks/Python.framework/Versions/3.13/lib/python3.13/site-packages (from sentence-transformers) (11.1.0)\n",
      "Requirement already satisfied: typing_extensions>=4.5.0 in /Library/Frameworks/Python.framework/Versions/3.13/lib/python3.13/site-packages (from sentence-transformers) (4.12.2)\n",
      "Requirement already satisfied: filelock in /Library/Frameworks/Python.framework/Versions/3.13/lib/python3.13/site-packages (from huggingface-hub>=0.20.0->sentence-transformers) (3.18.0)\n",
      "Requirement already satisfied: fsspec>=2023.5.0 in /Library/Frameworks/Python.framework/Versions/3.13/lib/python3.13/site-packages (from huggingface-hub>=0.20.0->sentence-transformers) (2025.3.0)\n",
      "Requirement already satisfied: packaging>=20.9 in /Library/Frameworks/Python.framework/Versions/3.13/lib/python3.13/site-packages (from huggingface-hub>=0.20.0->sentence-transformers) (24.2)\n",
      "Requirement already satisfied: pyyaml>=5.1 in /Library/Frameworks/Python.framework/Versions/3.13/lib/python3.13/site-packages (from huggingface-hub>=0.20.0->sentence-transformers) (6.0.2)\n",
      "Requirement already satisfied: requests in /Library/Frameworks/Python.framework/Versions/3.13/lib/python3.13/site-packages (from huggingface-hub>=0.20.0->sentence-transformers) (2.32.3)\n",
      "Requirement already satisfied: networkx in /Library/Frameworks/Python.framework/Versions/3.13/lib/python3.13/site-packages (from torch>=1.11.0->sentence-transformers) (3.4.2)\n",
      "Requirement already satisfied: jinja2 in /Library/Frameworks/Python.framework/Versions/3.13/lib/python3.13/site-packages (from torch>=1.11.0->sentence-transformers) (3.1.6)\n",
      "Requirement already satisfied: setuptools in /Library/Frameworks/Python.framework/Versions/3.13/lib/python3.13/site-packages (from torch>=1.11.0->sentence-transformers) (76.1.0)\n",
      "Requirement already satisfied: sympy==1.13.1 in /Library/Frameworks/Python.framework/Versions/3.13/lib/python3.13/site-packages (from torch>=1.11.0->sentence-transformers) (1.13.1)\n",
      "Requirement already satisfied: mpmath<1.4,>=1.1.0 in /Library/Frameworks/Python.framework/Versions/3.13/lib/python3.13/site-packages (from sympy==1.13.1->torch>=1.11.0->sentence-transformers) (1.3.0)\n",
      "Requirement already satisfied: numpy>=1.17 in /Library/Frameworks/Python.framework/Versions/3.13/lib/python3.13/site-packages (from transformers<5.0.0,>=4.41.0->sentence-transformers) (2.2.4)\n",
      "Requirement already satisfied: regex!=2019.12.17 in /Library/Frameworks/Python.framework/Versions/3.13/lib/python3.13/site-packages (from transformers<5.0.0,>=4.41.0->sentence-transformers) (2024.11.6)\n",
      "Requirement already satisfied: tokenizers<0.22,>=0.21 in /Library/Frameworks/Python.framework/Versions/3.13/lib/python3.13/site-packages (from transformers<5.0.0,>=4.41.0->sentence-transformers) (0.21.1)\n",
      "Requirement already satisfied: safetensors>=0.4.3 in /Library/Frameworks/Python.framework/Versions/3.13/lib/python3.13/site-packages (from transformers<5.0.0,>=4.41.0->sentence-transformers) (0.5.3)\n",
      "Requirement already satisfied: joblib>=1.2.0 in /Library/Frameworks/Python.framework/Versions/3.13/lib/python3.13/site-packages (from scikit-learn->sentence-transformers) (1.4.2)\n",
      "Requirement already satisfied: threadpoolctl>=3.1.0 in /Library/Frameworks/Python.framework/Versions/3.13/lib/python3.13/site-packages (from scikit-learn->sentence-transformers) (3.6.0)\n",
      "Requirement already satisfied: MarkupSafe>=2.0 in /Library/Frameworks/Python.framework/Versions/3.13/lib/python3.13/site-packages (from jinja2->torch>=1.11.0->sentence-transformers) (3.0.2)\n",
      "Requirement already satisfied: charset-normalizer<4,>=2 in /Library/Frameworks/Python.framework/Versions/3.13/lib/python3.13/site-packages (from requests->huggingface-hub>=0.20.0->sentence-transformers) (3.4.1)\n",
      "Requirement already satisfied: idna<4,>=2.5 in /Library/Frameworks/Python.framework/Versions/3.13/lib/python3.13/site-packages (from requests->huggingface-hub>=0.20.0->sentence-transformers) (3.10)\n",
      "Requirement already satisfied: urllib3<3,>=1.21.1 in /Library/Frameworks/Python.framework/Versions/3.13/lib/python3.13/site-packages (from requests->huggingface-hub>=0.20.0->sentence-transformers) (2.3.0)\n",
      "Requirement already satisfied: certifi>=2017.4.17 in /Library/Frameworks/Python.framework/Versions/3.13/lib/python3.13/site-packages (from requests->huggingface-hub>=0.20.0->sentence-transformers) (2025.1.31)\n",
      "\n",
      "\u001b[1m[\u001b[0m\u001b[34;49mnotice\u001b[0m\u001b[1;39;49m]\u001b[0m\u001b[39;49m A new release of pip is available: \u001b[0m\u001b[31;49m24.3.1\u001b[0m\u001b[39;49m -> \u001b[0m\u001b[32;49m25.1.1\u001b[0m\n",
      "\u001b[1m[\u001b[0m\u001b[34;49mnotice\u001b[0m\u001b[1;39;49m]\u001b[0m\u001b[39;49m To update, run: \u001b[0m\u001b[32;49mpip3 install --upgrade pip\u001b[0m\n"
     ]
    }
   ],
   "source": [
    "!pip install sentence-transformers\n"
   ]
  },
  {
   "cell_type": "code",
   "execution_count": 15,
   "metadata": {},
   "outputs": [],
   "source": [
    "from sentence_transformers import CrossEncoder\n",
    "\n",
    "cross_encoder = CrossEncoder('cross-encoder/ms-marco-MiniLM-L-6-v2')\n"
   ]
  },
  {
   "cell_type": "code",
   "execution_count": null,
   "metadata": {},
   "outputs": [],
   "source": [
    "def rerank(query_text, candidate_ids, collection_df):\n",
    "    candidate_texts = []\n",
    "    for uid in candidate_ids:\n",
    "        row = collection_df[collection_df['cord_uid'] == uid]\n",
    "        if not row.empty:\n",
    "            title = row.iloc[0]['title'] if pd.notnull(row.iloc[0]['title']) else ''\n",
    "            abstract = row.iloc[0]['abstract'] if pd.notnull(row.iloc[0]['abstract']) else ''\n",
    "            doc_text = f\"{title} {abstract}\"\n",
    "            candidate_texts.append(doc_text)\n",
    "        else:\n",
    "            candidate_texts.append('')  # if uid not found\n",
    "    \n",
    "    pairs = [[query_text, doc] for doc in candidate_texts]\n",
    "    \n",
    "    scores = cross_encoder.predict(pairs)\n",
    "    \n",
    "    # Sort by score\n",
    "    indices = sorted(range(len(scores)), key=lambda i: scores[i], reverse=True)[:5]  # top-5\n",
    "    reranked_uids = [candidate_ids[i] for i in indices]\n",
    "    \n",
    "    return reranked_uids\n"
   ]
  },
  {
   "cell_type": "code",
   "execution_count": 18,
   "metadata": {},
   "outputs": [],
   "source": [
    "df_query_dev['reranked_top5'] = df_query_dev.apply(\n",
    "    lambda row: rerank(row['tweet_text'], row['bm25_topk'], df_collection),\n",
    "    axis=1\n",
    ")\n"
   ]
  },
  {
   "cell_type": "code",
   "execution_count": 19,
   "metadata": {},
   "outputs": [],
   "source": [
    "df_query_dev[['post_id', 'reranked_top5']].rename(columns={'reranked_top5': 'preds'}).to_csv('reranked_predictions.tsv', sep='\\t', index=False)\n"
   ]
  },
  {
   "cell_type": "code",
   "execution_count": 20,
   "metadata": {},
   "outputs": [
    {
     "data": {
      "text/html": [
       "<div>\n",
       "<style scoped>\n",
       "    .dataframe tbody tr th:only-of-type {\n",
       "        vertical-align: middle;\n",
       "    }\n",
       "\n",
       "    .dataframe tbody tr th {\n",
       "        vertical-align: top;\n",
       "    }\n",
       "\n",
       "    .dataframe thead th {\n",
       "        text-align: right;\n",
       "    }\n",
       "</style>\n",
       "<table border=\"1\" class=\"dataframe\">\n",
       "  <thead>\n",
       "    <tr style=\"text-align: right;\">\n",
       "      <th></th>\n",
       "      <th>post_id</th>\n",
       "      <th>tweet_text</th>\n",
       "      <th>cord_uid</th>\n",
       "      <th>bm25_topk</th>\n",
       "      <th>reranked_top5</th>\n",
       "    </tr>\n",
       "  </thead>\n",
       "  <tbody>\n",
       "    <tr>\n",
       "      <th>0</th>\n",
       "      <td>16</td>\n",
       "      <td>covid recovery: this study from the usa reveal...</td>\n",
       "      <td>3qvh482o</td>\n",
       "      <td>[25aj8rj5, gatxuwz7, 59up4v56, styavbvi, 6sy80...</td>\n",
       "      <td>[59up4v56, styavbvi, 25aj8rj5, gatxuwz7, 6sy80...</td>\n",
       "    </tr>\n",
       "    <tr>\n",
       "      <th>1</th>\n",
       "      <td>69</td>\n",
       "      <td>\"Among 139 clients exposed to two symptomatic ...</td>\n",
       "      <td>r58aohnu</td>\n",
       "      <td>[r58aohnu, p0kg6dyz, 9dlaaye8, iu1d9i57, d06np...</td>\n",
       "      <td>[r58aohnu, d06npvro, p0kg6dyz, 9dlaaye8, iu1d9...</td>\n",
       "    </tr>\n",
       "    <tr>\n",
       "      <th>2</th>\n",
       "      <td>73</td>\n",
       "      <td>I recall early on reading that researchers who...</td>\n",
       "      <td>sts48u9i</td>\n",
       "      <td>[tz2shoso, o877uul1, m1sf159a, sgo76prc, gruir...</td>\n",
       "      <td>[gruir7aw, o877uul1, tz2shoso, sgo76prc, m1sf1...</td>\n",
       "    </tr>\n",
       "    <tr>\n",
       "      <th>3</th>\n",
       "      <td>93</td>\n",
       "      <td>You know you're credible when NIH website has ...</td>\n",
       "      <td>3sr2exq9</td>\n",
       "      <td>[3sr2exq9, hgpiig0g, sv48gjkk, k0f4cwig, ihgxt...</td>\n",
       "      <td>[k0f4cwig, 3sr2exq9, sv48gjkk, hgpiig0g, ihgxt...</td>\n",
       "    </tr>\n",
       "    <tr>\n",
       "      <th>4</th>\n",
       "      <td>96</td>\n",
       "      <td>Resistance to antifungal medications is a grow...</td>\n",
       "      <td>ybwwmyqy</td>\n",
       "      <td>[lzddnb8j, ouvq2wpq, sxx3yid9, vabb2f26, y9fqa...</td>\n",
       "      <td>[lzddnb8j, vabb2f26, ouvq2wpq, sxx3yid9, y9fqa...</td>\n",
       "    </tr>\n",
       "    <tr>\n",
       "      <th>...</th>\n",
       "      <td>...</td>\n",
       "      <td>...</td>\n",
       "      <td>...</td>\n",
       "      <td>...</td>\n",
       "      <td>...</td>\n",
       "    </tr>\n",
       "    <tr>\n",
       "      <th>1395</th>\n",
       "      <td>14193</td>\n",
       "      <td>Residents at high risk of covid-19: effectiven...</td>\n",
       "      <td>0gn3b98n</td>\n",
       "      <td>[0gn3b98n, soa71kwx, 0e97tdez, feohcey3, pqjum...</td>\n",
       "      <td>[0gn3b98n, 0e97tdez, soa71kwx, feohcey3, pqjum...</td>\n",
       "    </tr>\n",
       "    <tr>\n",
       "      <th>1396</th>\n",
       "      <td>14196</td>\n",
       "      <td>61% of teenagers hospitalized for covid were \"...</td>\n",
       "      <td>25bdifv6</td>\n",
       "      <td>[s1gdbsfx, 92z77upt, 5m23wtpi, j8evw0qj, xtmn1...</td>\n",
       "      <td>[j8evw0qj, 92z77upt, xtmn1n0r, 5m23wtpi, s1gdb...</td>\n",
       "    </tr>\n",
       "    <tr>\n",
       "      <th>1397</th>\n",
       "      <td>14203</td>\n",
       "      <td>\"fresh evidence backing melatonin against covi...</td>\n",
       "      <td>qn6wawxk</td>\n",
       "      <td>[qn6wawxk, dsz66r4u, m80rklg5, rtus1qyw, 059oj...</td>\n",
       "      <td>[qn6wawxk, dsz66r4u, rtus1qyw, 059oj76m, m80rk...</td>\n",
       "    </tr>\n",
       "    <tr>\n",
       "      <th>1398</th>\n",
       "      <td>14233</td>\n",
       "      <td>the vaccine doesn't halt the spread, it is pro...</td>\n",
       "      <td>3u3i5myh</td>\n",
       "      <td>[unl3n0tn, 2u9eenwu, d6ow67k9, 582ld85p, 47p4g...</td>\n",
       "      <td>[unl3n0tn, 47p4g80o, 582ld85p, 2u9eenwu, d6ow6...</td>\n",
       "    </tr>\n",
       "    <tr>\n",
       "      <th>1399</th>\n",
       "      <td>14236</td>\n",
       "      <td>\"Great commentary from K. Carvalho,  black pre...</td>\n",
       "      <td>nih4l4ok</td>\n",
       "      <td>[nih4l4ok, w4dyadpa, uv5jctnd, rwevmwcr, rm6av...</td>\n",
       "      <td>[nih4l4ok, uv5jctnd, rwevmwcr, w4dyadpa, rm6av...</td>\n",
       "    </tr>\n",
       "  </tbody>\n",
       "</table>\n",
       "<p>1400 rows × 5 columns</p>\n",
       "</div>"
      ],
      "text/plain": [
       "      post_id                                         tweet_text  cord_uid  \\\n",
       "0          16  covid recovery: this study from the usa reveal...  3qvh482o   \n",
       "1          69  \"Among 139 clients exposed to two symptomatic ...  r58aohnu   \n",
       "2          73  I recall early on reading that researchers who...  sts48u9i   \n",
       "3          93  You know you're credible when NIH website has ...  3sr2exq9   \n",
       "4          96  Resistance to antifungal medications is a grow...  ybwwmyqy   \n",
       "...       ...                                                ...       ...   \n",
       "1395    14193  Residents at high risk of covid-19: effectiven...  0gn3b98n   \n",
       "1396    14196  61% of teenagers hospitalized for covid were \"...  25bdifv6   \n",
       "1397    14203  \"fresh evidence backing melatonin against covi...  qn6wawxk   \n",
       "1398    14233  the vaccine doesn't halt the spread, it is pro...  3u3i5myh   \n",
       "1399    14236  \"Great commentary from K. Carvalho,  black pre...  nih4l4ok   \n",
       "\n",
       "                                              bm25_topk  \\\n",
       "0     [25aj8rj5, gatxuwz7, 59up4v56, styavbvi, 6sy80...   \n",
       "1     [r58aohnu, p0kg6dyz, 9dlaaye8, iu1d9i57, d06np...   \n",
       "2     [tz2shoso, o877uul1, m1sf159a, sgo76prc, gruir...   \n",
       "3     [3sr2exq9, hgpiig0g, sv48gjkk, k0f4cwig, ihgxt...   \n",
       "4     [lzddnb8j, ouvq2wpq, sxx3yid9, vabb2f26, y9fqa...   \n",
       "...                                                 ...   \n",
       "1395  [0gn3b98n, soa71kwx, 0e97tdez, feohcey3, pqjum...   \n",
       "1396  [s1gdbsfx, 92z77upt, 5m23wtpi, j8evw0qj, xtmn1...   \n",
       "1397  [qn6wawxk, dsz66r4u, m80rklg5, rtus1qyw, 059oj...   \n",
       "1398  [unl3n0tn, 2u9eenwu, d6ow67k9, 582ld85p, 47p4g...   \n",
       "1399  [nih4l4ok, w4dyadpa, uv5jctnd, rwevmwcr, rm6av...   \n",
       "\n",
       "                                          reranked_top5  \n",
       "0     [59up4v56, styavbvi, 25aj8rj5, gatxuwz7, 6sy80...  \n",
       "1     [r58aohnu, d06npvro, p0kg6dyz, 9dlaaye8, iu1d9...  \n",
       "2     [gruir7aw, o877uul1, tz2shoso, sgo76prc, m1sf1...  \n",
       "3     [k0f4cwig, 3sr2exq9, sv48gjkk, hgpiig0g, ihgxt...  \n",
       "4     [lzddnb8j, vabb2f26, ouvq2wpq, sxx3yid9, y9fqa...  \n",
       "...                                                 ...  \n",
       "1395  [0gn3b98n, 0e97tdez, soa71kwx, feohcey3, pqjum...  \n",
       "1396  [j8evw0qj, 92z77upt, xtmn1n0r, 5m23wtpi, s1gdb...  \n",
       "1397  [qn6wawxk, dsz66r4u, rtus1qyw, 059oj76m, m80rk...  \n",
       "1398  [unl3n0tn, 47p4g80o, 582ld85p, 2u9eenwu, d6ow6...  \n",
       "1399  [nih4l4ok, uv5jctnd, rwevmwcr, w4dyadpa, rm6av...  \n",
       "\n",
       "[1400 rows x 5 columns]"
      ]
     },
     "execution_count": 20,
     "metadata": {},
     "output_type": "execute_result"
    }
   ],
   "source": [
    "df_query_dev"
   ]
  },
  {
   "cell_type": "code",
   "execution_count": 22,
   "metadata": {},
   "outputs": [],
   "source": [
    "def get_performance_mrr(data, col_gold, col_pred, list_k=[1, 5, 10]):\n",
    "    d_performance = {}\n",
    "    for k in list_k:\n",
    "        data[\"in_topx\"] = data.apply(\n",
    "            lambda x: (1 / (x[col_pred][:k].index(x[col_gold]) + 1)\n",
    "                       if x[col_gold] in x[col_pred][:k] else 0),\n",
    "            axis=1\n",
    "        )\n",
    "        d_performance[k] = data[\"in_topx\"].mean()\n",
    "    return d_performance"
   ]
  },
  {
   "cell_type": "code",
   "execution_count": 23,
   "metadata": {},
   "outputs": [
    {
     "name": "stdout",
     "output_type": "stream",
     "text": [
      "Results after Neural Re-Ranking: {1: np.float64(0.535), 5: np.float64(0.5738809523809524), 10: np.float64(0.5738809523809524)}\n"
     ]
    }
   ],
   "source": [
    "results_reranked = get_performance_mrr(df_query_dev, 'cord_uid', 'reranked_top5')\n",
    "print(f\"Results after Neural Re-Ranking: {results_reranked}\")\n"
   ]
  },
  {
   "cell_type": "code",
   "execution_count": 38,
   "metadata": {},
   "outputs": [],
   "source": [
    "from rank_bm25 import BM25Okapi\n",
    "import numpy as np\n"
   ]
  },
  {
   "cell_type": "code",
   "execution_count": 34,
   "metadata": {},
   "outputs": [],
   "source": [
    "df_query_test = pd.read_csv('subtask4b_query_tweets_test.tsv', sep='\\t')\n"
   ]
  },
  {
   "cell_type": "code",
   "execution_count": 35,
   "metadata": {},
   "outputs": [],
   "source": [
    "corpus = df_collection[['title', 'abstract']].apply(lambda x: f\"{x['title']} {x['abstract']}\", axis=1).tolist()\n",
    "cord_uids = df_collection['cord_uid'].tolist()\n",
    "\n",
    "tokenized_corpus = [doc.split(' ') for doc in corpus]\n",
    "bm25 = BM25Okapi(tokenized_corpus)"
   ]
  },
  {
   "cell_type": "code",
   "execution_count": 36,
   "metadata": {},
   "outputs": [],
   "source": [
    "text2bm25top = {}\n",
    "\n",
    "def get_top_cord_uids(query):\n",
    "  if query in text2bm25top.keys():\n",
    "      return text2bm25top[query]\n",
    "  else:\n",
    "      tokenized_query = query.split(' ')\n",
    "      doc_scores = bm25.get_scores(tokenized_query)\n",
    "      indices = np.argsort(-doc_scores)[:5]\n",
    "      bm25_topk = [cord_uids[x] for x in indices]\n",
    "\n",
    "      text2bm25top[query] = bm25_topk\n",
    "      return bm25_topk"
   ]
  },
  {
   "cell_type": "code",
   "execution_count": 39,
   "metadata": {},
   "outputs": [],
   "source": [
    "df_query_test['bm25_topk'] = df_query_test['tweet_text'].apply(lambda x: get_top_cord_uids(x))\n"
   ]
  },
  {
   "cell_type": "code",
   "execution_count": null,
   "metadata": {},
   "outputs": [],
   "source": [
    "df_query_test['reranked_top5'] = df_query_test.apply(\n",
    "    lambda row: rerank(row['tweet_text'], row['bm25_topk'], df_collection),\n",
    "    axis=1\n",
    ")\n",
    "\n",
    "# Saving results submission\n",
    "df_query_test[['post_id', 'reranked_top5']].rename(columns={'reranked_top5': 'preds'}).to_csv(\n",
    "    'reranked_predictions_test.tsv', sep='\\t', index=False\n",
    ")\n"
   ]
  }
 ],
 "metadata": {
  "kernelspec": {
   "display_name": "Python 3",
   "language": "python",
   "name": "python3"
  },
  "language_info": {
   "codemirror_mode": {
    "name": "ipython",
    "version": 3
   },
   "file_extension": ".py",
   "mimetype": "text/x-python",
   "name": "python",
   "nbconvert_exporter": "python",
   "pygments_lexer": "ipython3",
   "version": "3.13.2"
  }
 },
 "nbformat": 4,
 "nbformat_minor": 2
}
